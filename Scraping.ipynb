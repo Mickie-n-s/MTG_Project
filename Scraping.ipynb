{
 "cells": [
  {
   "cell_type": "code",
   "execution_count": 2,
   "metadata": {},
   "outputs": [],
   "source": [
    "import requests\n",
    "from bs4 import BeautifulSoup\n",
    "import pandas as pd\n",
    "import time\n",
    "import random\n",
    "import re"
   ]
  },
  {
   "cell_type": "code",
   "execution_count": 3,
   "metadata": {},
   "outputs": [],
   "source": [
    "supported_formats = {\n",
    "    'standard': 'format?f=ST',\n",
    "    'pioneer': 'format?f=PI',\n",
    "    'modern': 'format?f=MO',\n",
    "    'legacy': 'format?f=LE',\n",
    "    'historic': 'format?f=HI',\n",
    "    'vintage': 'format?f=VI',  # low ammount of data\n",
    "    'pauper': 'format?f=PAU'  # literally 1 tier list, moatly for test purposes\n",
    "}"
   ]
  },
  {
   "cell_type": "code",
   "execution_count": 4,
   "metadata": {},
   "outputs": [],
   "source": [
    "url = 'https://www.mtgtop8.com/'\n",
    "\n",
    "pd.options.display.max_columns = None\n",
    "pd.options.display.max_rows = None\n",
    "pd.options.display.width = 0"
   ]
  },
  {
   "cell_type": "code",
   "execution_count": 9,
   "metadata": {},
   "outputs": [],
   "source": [
    "def get_tournament_links(mtg_format: str) -> pd.DataFrame:\n",
    "    \"\"\"\n",
    "    Takes format name, return Pandas DataFrame with link to tier list for each month that is available on mtgtop8.com\n",
    "    :param str mtg_format: one of the supported formats\n",
    "    :return: pd.DataDrame with links to each tier list\n",
    "    \"\"\"\n",
    "\n",
    "    mtg_format = mtg_format.lower()  # make input lower case\n",
    "    if mtg_format in supported_formats:\n",
    "        format_url = supported_formats[mtg_format]\n",
    "    else:\n",
    "        raise Exception('Format not on the list of formats: ', mtg_format)\n",
    "\n",
    "    full_url = url + format_url\n",
    "    time.sleep(random.randint(0, 3))\n",
    "    page = requests.get(full_url)  # get the page\n",
    "    soup = BeautifulSoup(page.content, \"html.parser\")  # get only it's content\n",
    "    tourney_element = soup.find_all(style=\"border='0'\")  # search for tournament list\n",
    "    tourney_links = tourney_element.find_all(attribute = a)  # get all the tournament links\n",
    "    tournament_links = []\n",
    "\n",
    "    for element in tourney_links:\n",
    "        tournament_links.append(element['value'])  # link to decks of that tournament\n",
    "\n",
    "    tournament_links = set(tournament_link)\n",
    "\n",
    "    return tournament_links"
   ]
  },
  {
   "cell_type": "code",
   "execution_count": 12,
   "metadata": {},
   "outputs": [
    {
     "data": {
      "text/plain": [
       "<function __main__.get_tournament_links(mtg_format:str) -> pandas.core.frame.DataFrame>"
      ]
     },
     "execution_count": 12,
     "metadata": {},
     "output_type": "execute_result"
    }
   ],
   "source": [
    "get_tournament_links\n"
   ]
  },
  {
   "cell_type": "code",
   "execution_count": null,
   "metadata": {},
   "outputs": [],
   "source": [
    "def get_deck_links_tournament(tournament_url: str) -> pd.DataFrame:\n",
    "    \"\"\"\n",
    "    Given a URL for a tier list scrapes all deck links in that tier list\n",
    "    :param str tournament_url: string that is a link to a tier list\n",
    "    :return: pd.DataFrame with links to all decks on that page\n",
    "    \"\"\"\n",
    "    time.sleep(random.randint(0, 3))\n",
    "    page = requests.get(tournament_url)  # get the page\n",
    "    soup = BeautifulSoup(page.content, \"html.parser\")  # get only it's content\n",
    "    # this is spaghetti but the website is also spaghetti\n",
    "    searching_by_style = soup.find_all(style='margin:0px 4px 0px 4px;')\n",
    "    decks = []\n",
    "    for element in searching_by_style:  # it should be exactly 1 iteration any ways\n",
    "        trs = element.find_all('tr')\n",
    "        for index, tr in enumerate(trs):\n",
    "            tier = index + 1\n",
    "            # print('Tier ' + str(tier))\n",
    "            aas = all_links = tr.find_all('a')  # Find all links\n",
    "            deck_name = \"\"\n",
    "            deck_link = \"\"\n",
    "            x = iter(aas)\n",
    "            if len(aas) % 3 != 0:\n",
    "                raise Exception(\"Number of links isn't devideable by zero (something went wrong!)\")\n",
    "            for a_1, a_2, a_3 in zip(x, x, x):\n",
    "                try:\n",
    "                    deck_name = a_2.contents[0]\n",
    "                    deck_link = a_2['href']\n",
    "                    deck_author = a_3.contents[0]\n",
    "                    # print(tier, deck_name, deck_link, deck_author)\n",
    "                    full_deck_link = url + 'event' + deck_link\n",
    "                    decks.append([tier, deck_name.strip(), full_deck_link, deck_author.strip()])\n",
    "                except IndexError:\n",
    "                    print('Likely no deck link and author, only picture!')\n",
    "                    print(a_1, a_2, a_3)\n",
    "\n",
    "    decks_df = pd.DataFrame(decks, columns=['Tier', 'Name', 'Deck link', 'Author name'])\n",
    "    return decks_df\n"
   ]
  },
  {
   "cell_type": "code",
   "execution_count": null,
   "metadata": {},
   "outputs": [],
   "source": [
    "def get_deck_links_all(mtg_format: str) -> pd.DataFrame:\n",
    "    \"\"\"\n",
    "    Get all decks from \"decks to beat\" for a given format.\n",
    "    :param str mtg_format: one of the supported formats\n",
    "    :return: pd.DataFrame with the month, tier, link to the deck and other data\n",
    "    \"\"\"\n",
    "\n",
    "    mtg_format = mtg_format.lower()  # make input lower case\n",
    "    if mtg_format not in supported_formats:\n",
    "        raise Exception('Format not on the list of formats: ', mtg_format)\n",
    "\n",
    "    tier_lists = get_tier_list_links(mtg_format)\n",
    "    all_decks_from_format = pd.DataFrame(columns=\n",
    "                                         ['Year', 'Month', 'Tier', 'Name', 'Author name', 'Deck link'])\n",
    "    year = []\n",
    "    month = []\n",
    "    tier = []\n",
    "    name = []\n",
    "    author_name = []\n",
    "    deck_link = []\n",
    "    for index, row in tier_lists.iterrows():\n",
    "        deck_from_month = get_deck_links_month(row['Link to month'])\n",
    "        print('Adding', ': ', row['Month'], '.', row['Year'], sep='')\n",
    "        for index2, row2 in deck_from_month.iterrows():\n",
    "            year.append(row['Year'])\n",
    "            month.append(row['Month'])\n",
    "            tier.append(row2['Tier'])\n",
    "            name.append(row2['Name'])\n",
    "            author_name.append(row2['Author name'])\n",
    "            deck_link.append(row2['Deck link'])\n",
    "\n",
    "    all_decks_from_format['Year'] = year\n",
    "    all_decks_from_format['Month'] = month\n",
    "    all_decks_from_format['Tier'] = tier\n",
    "    all_decks_from_format['Name'] = name\n",
    "    all_decks_from_format['Author name'] = author_name\n",
    "    all_decks_from_format['Deck link'] = deck_link\n",
    "\n",
    "    return all_decks_from_format\n",
    "\n"
   ]
  },
  {
   "cell_type": "code",
   "execution_count": null,
   "metadata": {},
   "outputs": [],
   "source": [
    "def get_deck_list(deck_link: str) -> str:\n",
    "    \"\"\"\n",
    "    Scrape deck list from provided deck link\n",
    "    :param str deck_link: deck link to mtgtop8.com\n",
    "    :return: deck list as string\n",
    "    \"\"\"\n",
    "\n",
    "    time.sleep(random.randint(0, 3))\n",
    "    page = requests.get(deck_link)\n",
    "    soup = BeautifulSoup(page.content, \"html.parser\")  # get only it's content\n",
    "    found_element = soup.find_all('a', {'href': re.compile(r'mtgo')})\n",
    "    if len(found_element) != 1:\n",
    "        raise Exception('No MTGO deck link or other links containing string \"mtgo\"')\n",
    "    mtgo_url = found_element[0]['href']\n",
    "    full_url = url + mtgo_url\n",
    "    # print(full_url)\n",
    "    time.sleep(random.randint(0, 3))\n",
    "    page = requests.get(full_url)  # get the *.txt file on the website containing deck list in MTGO format\n",
    "    deck_list = page.text\n",
    "    return deck_list"
   ]
  },
  {
   "cell_type": "code",
   "execution_count": null,
   "metadata": {},
   "outputs": [],
   "source": [
    "def get_all_decklists(mtg_format: str) -> pd.DataFrame:\n",
    "    \"\"\"\n",
    "    Given a format returns a DataFrame with information about all decks, including deck lists\n",
    "    :param str mtg_format: one of the supported formats\n",
    "    :return: pd.Dataframe with deck lists and other information\n",
    "    \"\"\"\n",
    "\n",
    "    deck_strings = []\n",
    "    all_deck_lists = get_deck_links_all(mtg_format)\n",
    "    print(\"\\nTotal decklists found:\", len(all_deck_lists))\n",
    "    for index, row in all_deck_lists.iterrows():\n",
    "        deck_list = get_deck_list(row['Deck link'])  # get the decklist to string format from its web page\n",
    "        # noinspection PyTypeChecker\n",
    "        print(\"%s. Added deck list for %s (%s.%s)\" % (str(index+1), row['Name'], row['Month'], row['Year']))\n",
    "        deck_strings.append(deck_list)\n",
    "\n",
    "    all_deck_lists['Deck list'] = deck_strings\n",
    "    print(all_deck_lists)\n",
    "\n",
    "    return all_deck_lists"
   ]
  },
  {
   "cell_type": "code",
   "execution_count": null,
   "metadata": {},
   "outputs": [],
   "source": [
    "# get_deck_list('https://www.mtgtop8.com/event?e=38037&d=484549&f=MO')\n",
    "format_to_scrape = 'modern'\n",
    "# print(get_deck_links_all(format_to_scrape))\n",
    "df_to_save = get_all_decklists(format_to_scrape)\n",
    "df_to_save.to_csv(path_or_buf=str(format_to_scrape + \" decks.csv\"), index=False)\n"
   ]
  }
 ],
 "metadata": {
  "kernelspec": {
   "display_name": "PythonData",
   "language": "python",
   "name": "pythondata"
  },
  "language_info": {
   "codemirror_mode": {
    "name": "ipython",
    "version": 3
   },
   "file_extension": ".py",
   "mimetype": "text/x-python",
   "name": "python",
   "nbconvert_exporter": "python",
   "pygments_lexer": "ipython3",
   "version": "3.6.10"
  }
 },
 "nbformat": 4,
 "nbformat_minor": 4
}
